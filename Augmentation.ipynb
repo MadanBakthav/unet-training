{
 "cells": [
  {
   "cell_type": "code",
   "execution_count": 27,
   "metadata": {},
   "outputs": [],
   "source": [
    "import random\n",
    "\n",
    "import cv2\n",
    "from matplotlib import pyplot as plt\n",
    "\n",
    "import albumentations as A\n",
    "\n",
    "from tqdm import tqdm\n",
    "import glob\n",
    "\n",
    "images_path = r\"D:\\10 Studies\\Masters\\05_02_Master Thesis\\unet\\border_filled_data\\train\\\\\"\n",
    "masks_path = r\"D:\\10 Studies\\Masters\\05_02_Master Thesis\\unet\\border_filled_data\\masks\\\\\" \n",
    "images = glob.glob(images_path + \"*.jpeg\")\n",
    "masks = glob.glob(masks_path + \"*.jpeg\")"
   ]
  },
  {
   "cell_type": "code",
   "execution_count": 28,
   "metadata": {},
   "outputs": [
    {
     "name": "stdout",
     "output_type": "stream",
     "text": [
      "['D:', '10 Studies', 'Masters', '05_02_Master Thesis', 'unet', 'border_filled_data', 'train', '30.jpeg']\n",
      "D:\\10 Studies\\Masters\\05_02_Master Thesis\\unet\\border_filled_data\\masks\\30.jpeg\n"
     ]
    }
   ],
   "source": [
    "print(images[23].split(\"\\\\\"))\n",
    "print(masks[23])"
   ]
  },
  {
   "cell_type": "code",
   "execution_count": 41,
   "metadata": {},
   "outputs": [
    {
     "name": "stderr",
     "output_type": "stream",
     "text": [
      "100%|██████████████████████████████████████████| 74/74 [00:06<00:00, 12.30it/s]\n"
     ]
    }
   ],
   "source": [
    "images_save_path = r\"D:\\10 Studies\\Masters\\05_02_Master Thesis\\unet\\border_filled_aug_data\\train\\\\\"\n",
    "masks_save_path = r\"D:\\10 Studies\\Masters\\05_02_Master Thesis\\unet\\border_filled_aug_data\\masks\\\\\"\n",
    "\n",
    "for img in tqdm(range(len(images))):\n",
    "    image = cv2.imread(images[img])\n",
    "    mask = cv2.imread(masks[img])\n",
    "    \n",
    "    pre = \"RMCHFlip\"\n",
    "    file_name = images[img].split('\\\\')[-1]\n",
    "#     aug = A.HorizontalFlip(p=1)\n",
    "#     aug = A.VerticalFlip(p=1)\n",
    "#     aug = A.RandomBrightnessContrast(p=1)\n",
    "#     aug = A.Compose([ A.ChannelShuffle(p=1),], p=1)\n",
    "    aug= A.Compose([\n",
    "    A.CLAHE(p=1),\n",
    "    A.HueSaturationValue(hue_shift_limit=20, sat_shift_limit=50, val_shift_limit=50, p=1),\n",
    "], p=1)\n",
    "\n",
    "\n",
    "#     transform = A.Compose([\n",
    "#         A.RandomRotate90(p=1),\n",
    "#         A.RandomCrop(width=450, height=650),\n",
    "#     ])\n",
    "    augmented = aug(image=image, mask=mask)\n",
    "#     augmented = transform(image=image, mask=mask)\n",
    "    image_h_flipped = augmented['image']\n",
    "    mask_h_flipped = augmented['mask']\n",
    "    cv2.imwrite(images_save_path + pre + file_name,image_h_flipped)\n",
    "    cv2.imwrite(masks_save_path + pre + file_name,mask_h_flipped)\n",
    "    \n",
    "    \n",
    "\n",
    "# visualize(image_h_flipped, mask_h_flipped, original_image=image, original_mask=mask)"
   ]
  },
  {
   "cell_type": "code",
   "execution_count": null,
   "metadata": {},
   "outputs": [],
   "source": []
  }
 ],
 "metadata": {
  "kernelspec": {
   "display_name": "Python 3",
   "language": "python",
   "name": "python3"
  },
  "language_info": {
   "codemirror_mode": {
    "name": "ipython",
    "version": 3
   },
   "file_extension": ".py",
   "mimetype": "text/x-python",
   "name": "python",
   "nbconvert_exporter": "python",
   "pygments_lexer": "ipython3",
   "version": "3.7.7"
  }
 },
 "nbformat": 4,
 "nbformat_minor": 5
}
